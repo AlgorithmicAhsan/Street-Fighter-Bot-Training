{
  "cells": [
    {
      "cell_type": "code",
      "execution_count": 16,
      "metadata": {
        "id": "yl015opex7sC"
      },
      "outputs": [],
      "source": [
        "import pandas as pd\n",
        "import numpy as np\n",
        "from sklearn.model_selection import train_test_split\n",
        "from sklearn.preprocessing import MinMaxScaler\n",
        "import tensorflow as tf\n",
        "import torch\n",
        "import torch.nn as nn\n",
        "import torch.optim as optim\n",
        "from torch.utils.data import DataLoader, TensorDataset\n",
        "from sklearn.model_selection import train_test_split\n",
        "import joblib"
      ]
    },
    {
      "cell_type": "code",
      "execution_count": 17,
      "metadata": {},
      "outputs": [
        {
          "name": "stdout",
          "output_type": "stream",
          "text": [
            "Using device: cuda\n"
          ]
        }
      ],
      "source": [
        "# ✅ Device selection\n",
        "device = torch.device(\"cuda\" if torch.cuda.is_available() else \"cpu\")\n",
        "print(\"Using device:\", device)"
      ]
    },
    {
      "cell_type": "code",
      "execution_count": 18,
      "metadata": {
        "colab": {
          "base_uri": "https://localhost:8080/",
          "height": 74
        },
        "id": "8Aq2klioy94S",
        "outputId": "9f7ed2eb-4b68-4e0a-c25b-0f204f0a783e"
      },
      "outputs": [
        {
          "name": "stderr",
          "output_type": "stream",
          "text": [
            "C:\\Users\\Muhammad Ali\\AppData\\Local\\Temp\\ipykernel_6216\\4221230297.py:6: FutureWarning: Downcasting behavior in `replace` is deprecated and will be removed in a future version. To retain the old behavior, explicitly call `result.infer_objects(copy=False)`. To opt-in to the future behavior, set `pd.set_option('future.no_silent_downcasting', True)`\n",
            "  df.replace({True: 1, False: 0, 'TRUE': 1,'NOT_OVER': 0, 'FALSE': 0}, inplace=True)\n"
          ]
        }
      ],
      "source": [
        "# -----------------------------------------\n",
        "# 📥 Load and Clean Data\n",
        "# -----------------------------------------\n",
        "df = pd.read_csv(\"Final_Dataset.csv\")\n",
        "df.drop(['frame','p1_select', 'p2_select','p2_start','p1_start', 'round_over', 'p2_id'], axis=1, inplace=True)\n",
        "df.replace({True: 1, False: 0, 'TRUE': 1,'NOT_OVER': 0, 'FALSE': 0}, inplace=True)\n",
        "df = df.apply(pd.to_numeric, errors='coerce')\n",
        "df.dropna(inplace=True)\n",
        "verify_df = df.copy()\n"
      ]
    },
    {
      "cell_type": "code",
      "execution_count": 19,
      "metadata": {
        "id": "fVj8Z-Li4qoW"
      },
      "outputs": [],
      "source": [
        "# Define columns\n",
        "button_cols = ['p1_up', 'p1_down', 'p1_left', 'p1_right', 'p1_Y', 'p1_B', 'p1_X', 'p1_A', 'p1_L', 'p1_R']\n",
        "attack_cols = ['p1_Y', 'p1_B', 'p1_X', 'p1_A', 'p1_L', 'p1_R']\n",
        "curr_action = ['p1_jumping', 'p1_crouching', 'p1_in_move']"
      ]
    },
    {
      "cell_type": "code",
      "execution_count": 20,
      "metadata": {},
      "outputs": [],
      "source": [
        "# -----------------------------------------\n",
        "# 🧹 Data Filtering & Balancing\n",
        "# -----------------------------------------\n",
        "df['button_press_sum'] = df[button_cols].sum(axis=1)\n",
        "df['attack_sum'] = df[attack_cols].sum(axis=1)\n",
        "df['curr_action'] = df[curr_action].sum(axis=1)\n",
        "\n",
        "idle_frames = df[(df['attack_sum'] == 0) & (df['button_press_sum'] == 0) & (df['curr_action'] == 0)]\n",
        "idle_to_drop = idle_frames.sample(frac=0.8, random_state=42).index\n",
        "df = df.drop(index=idle_to_drop).reset_index(drop=True)\n",
        "\n",
        "# Drop 80% of only-direction frames\n",
        "def filter_only_key_pressed(df, key):\n",
        "    other_keys = [col for col in button_cols if col != key]\n",
        "    return df[(df[key] == 1) & (df[other_keys].sum(axis=1) == 0)]"
      ]
    },
    {
      "cell_type": "code",
      "execution_count": 21,
      "metadata": {
        "id": "1lrCPk_F7QXC"
      },
      "outputs": [],
      "source": [
        "only_keys = {\n",
        "    'p1_right': 0.8,\n",
        "    'p1_left': 0.8,\n",
        "    'p1_up': 0.8,\n",
        "    'p1_down': 0.8\n",
        "}\n",
        "\n",
        "for key, frac in only_keys.items():\n",
        "    sample = filter_only_key_pressed(df, key)\n",
        "    df = df.drop(sample.sample(frac=frac, random_state=42).index).reset_index(drop=True)"
      ]
    },
    {
      "cell_type": "code",
      "execution_count": 22,
      "metadata": {},
      "outputs": [],
      "source": [
        "\n",
        "# Remove 50% of movement-only frames\n",
        "directions = ['p1_up', 'p1_down', 'p1_left', 'p1_right']\n",
        "movement_only = df[(df[directions].sum(axis=1) > 0) & (df[[col for col in button_cols if col not in directions]].sum(axis=1) == 0)]\n",
        "movement_to_drop = movement_only.sample(frac=0.5, random_state=42).index\n",
        "df = df.drop(index=movement_to_drop).reset_index(drop=True)"
      ]
    },
    {
      "cell_type": "code",
      "execution_count": 23,
      "metadata": {},
      "outputs": [],
      "source": [
        "# Normalize\n",
        "norm_cols = ['p1_health', 'p1_x', 'p1_y', 'p2_health', 'p2_x', 'p2_y', 'timer']\n",
        "scaler = MinMaxScaler()\n",
        "df[norm_cols] = scaler.fit_transform(df[norm_cols])\n",
        "\n",
        "# Derived Features\n",
        "df['dx'] = df['p1_x'] - df['p2_x']\n",
        "df['dy'] = df['p1_y'] - df['p2_y']\n",
        "df['distance'] = np.sqrt(df['dx'] ** 2 + df['dy'] ** 2)\n",
        "df['p1_velocity_x'] = df['p1_x'].diff().fillna(0)\n",
        "df['p2_velocity_x'] = df['p2_x'].diff().fillna(0)\n",
        "df['p1_health_change'] = df['p1_health'].diff().fillna(0)\n",
        "df['p2_health_change'] = df['p2_health'].diff().fillna(0)\n",
        "\n",
        "# Shifted Button Features\n",
        "for col in button_cols:\n",
        "    df[f'prev_{col[3:]}'] = df[col].shift(1).fillna(0)\n",
        "\n",
        "# Normalize new features\n",
        "df[['dx','dy','distance','p1_velocity_x','p2_velocity_x','p1_health_change','p2_health_change']] = scaler.fit_transform(\n",
        "    df[['dx','dy','distance','p1_velocity_x','p2_velocity_x','p1_health_change','p2_health_change']])\n",
        "\n",
        "# Final balanced dataset\n",
        "balanced_df = df.drop(['attack_sum','button_press_sum','curr_action'], axis=1)"
      ]
    },
    {
      "cell_type": "code",
      "execution_count": 24,
      "metadata": {},
      "outputs": [
        {
          "name": "stderr",
          "output_type": "stream",
          "text": [
            "C:\\Users\\Muhammad Ali\\AppData\\Local\\Temp\\ipykernel_6216\\4027377180.py:33: UserWarning: Glyph 127918 (\\N{VIDEO GAME}) missing from font(s) DejaVu Sans.\n",
            "  plt.tight_layout()\n",
            "e:\\Model Training\\Street_fighter_turbo_training\\Lib\\site-packages\\IPython\\core\\pylabtools.py:170: UserWarning: Glyph 127918 (\\N{VIDEO GAME}) missing from font(s) DejaVu Sans.\n",
            "  fig.canvas.print_figure(bytes_io, **kw)\n"
          ]
        },
        {
          "data": {
            "image/png": "[encoded data removed]",
            "text/plain": [
              "<Figure size 1200x600 with 1 Axes>"
            ]
          },
          "metadata": {},
          "output_type": "display_data"
        }
      ],
      "source": [
        "import matplotlib.pyplot as plt\n",
        "import numpy as np\n",
        "\n",
        "# Keep button_cols in your desired order\n",
        "button_cols = ['p1_up', 'p1_down', 'p1_left', 'p1_right',\n",
        "               'p1_Y', 'p1_B', 'p1_X', 'p1_A', 'p1_L', 'p1_R']\n",
        "\n",
        "# Button counts WITHOUT sorting — respects button_cols order\n",
        "before_counts = verify_df[button_cols].sum()\n",
        "after_counts = balanced_df[button_cols].sum()\n",
        "\n",
        "x = np.arange(len(button_cols))\n",
        "width = 0.35\n",
        "\n",
        "plt.figure(figsize=(12, 6))\n",
        "bars1 = plt.bar(x - width/2, before_counts, width, label='Before Filtering', color='lightgray')\n",
        "bars2 = plt.bar(x + width/2, after_counts, width, label='After Filtering', color='dodgerblue')\n",
        "\n",
        "# Label bars\n",
        "for bar in bars1:\n",
        "    height = bar.get_height()\n",
        "    plt.text(bar.get_x() + bar.get_width()/2, height + 50, f'{int(height)}', ha='center', fontsize=9)\n",
        "\n",
        "for bar in bars2:\n",
        "    height = bar.get_height()\n",
        "    plt.text(bar.get_x() + bar.get_width()/2, height + 50, f'{int(height)}', ha='center', fontsize=9)\n",
        "\n",
        "plt.xticks(x, button_cols, rotation=45)\n",
        "plt.ylabel(\"Total Press Count\", fontsize=12)\n",
        "plt.title(\"🎮 Button Frequency: Before vs After Filtering\", fontsize=14)\n",
        "plt.legend()\n",
        "plt.grid(axis='y', linestyle='--', alpha=0.6)\n",
        "plt.tight_layout()\n",
        "plt.show()"
      ]
    },
    {
      "cell_type": "code",
      "execution_count": 25,
      "metadata": {
        "id": "LGtsLYAT5Lk3"
      },
      "outputs": [],
      "source": [
        "def create_sequences(df, sequence_length, button_cols):\n",
        "    df = df.copy()\n",
        "    \n",
        "    # Drop button columns from input features\n",
        "    feature_cols = [col for col in df.columns if col not in button_cols]\n",
        "    feature_data = df[feature_cols].to_numpy(dtype='float32')\n",
        "    target_data = df[button_cols].to_numpy(dtype='float32')\n",
        "\n",
        "    num_sequences = len(df) - sequence_length\n",
        "\n",
        "    # Build input sequences efficiently using NumPy strides\n",
        "    X = np.lib.stride_tricks.sliding_window_view(feature_data, (sequence_length, feature_data.shape[1]))\n",
        "    X = X.reshape(-1, sequence_length, feature_data.shape[1])[:num_sequences]\n",
        "\n",
        "    # The corresponding y values are the next-row targets after each sequence\n",
        "    y = target_data[sequence_length:]\n",
        "\n",
        "    return X, y\n"
      ]
    },
    {
      "cell_type": "code",
      "execution_count": 26,
      "metadata": {},
      "outputs": [],
      "source": [
        "def create_sequences(df, sequence_length, button_cols):\n",
        "    feature_cols = [col for col in df.columns if col not in button_cols]\n",
        "    X = df[feature_cols].to_numpy(dtype='float32')\n",
        "    y = df[button_cols].to_numpy(dtype='float32')\n",
        "    X_seq = np.lib.stride_tricks.sliding_window_view(X, (sequence_length, X.shape[1]))\n",
        "    X_seq = X_seq.reshape(-1, sequence_length, X.shape[1])[:len(df) - sequence_length]\n",
        "    y_seq = y[sequence_length:]\n",
        "    return X_seq, y_seq\n",
        "\n",
        "sequence_length = 25\n",
        "X, y = create_sequences(balanced_df, sequence_length, button_cols)\n",
        "X_train, X_val, y_train, y_val = train_test_split(X, y, test_size=0.2, random_state=42)"
      ]
    },
    {
      "cell_type": "code",
      "execution_count": 29,
      "metadata": {},
      "outputs": [],
      "source": [
        "class LSTMModel(nn.Module):\n",
        "    def __init__(self, input_size, hidden_size, output_size, num_layers=2):\n",
        "        super().__init__()\n",
        "        self.lstm = nn.LSTM(input_size, hidden_size, num_layers, batch_first=True, dropout=0.3)\n",
        "        self.fc1 = nn.Linear(hidden_size, 128)\n",
        "        self.relu = nn.ReLU()\n",
        "        self.dropout = nn.Dropout(0.2)\n",
        "        self.out = nn.Linear(128, output_size)\n",
        "        self.sigmoid = nn.Sigmoid()\n",
        "    def forward(self, x):\n",
        "        lstm_out, _ = self.lstm(x)\n",
        "        out = self.relu(self.fc1(lstm_out[:, -1, :]))\n",
        "        out = self.dropout(out)\n",
        "        return self.sigmoid(self.out(out))\n",
        "\n",
        "input_size = X.shape[2]\n",
        "output_size = y.shape[1]\n",
        "model = LSTMModel(input_size, 128, output_size).to(device)"
      ]
    },
    {
      "cell_type": "code",
      "execution_count": 30,
      "metadata": {},
      "outputs": [],
      "source": [
        "\n",
        "# Loss & Optimizer\n",
        "\n",
        "label_counts = y_train.sum(axis=0)\n",
        "weights = 1.0 / (label_counts + 1e-6)\n",
        "weights = weights / weights.max()\n",
        "weights = torch.tensor(weights, dtype=torch.float32).to(device)\n",
        "criterion = nn.BCELoss(weight=weights)\n",
        "optimizer = optim.Adam(model.parameters(), lr=0.001)"
      ]
    },
    {
      "cell_type": "code",
      "execution_count": 31,
      "metadata": {},
      "outputs": [
        {
          "name": "stdout",
          "output_type": "stream",
          "text": [
            "tensor([0.4622, 0.1613, 0.1402, 0.1002, 0.2602, 0.9838, 0.3174, 0.2588, 1.0000,\n",
            "        0.6508], device='cuda:0')\n"
          ]
        }
      ],
      "source": [
        "print(weights)"
      ]
    },
    {
      "cell_type": "code",
      "execution_count": 32,
      "metadata": {},
      "outputs": [],
      "source": [
        "\n",
        "# Dataloaders\n",
        "train_loader = DataLoader(TensorDataset(torch.tensor(X_train), torch.tensor(y_train)), batch_size=64, shuffle=True)\n",
        "val_loader = DataLoader(TensorDataset(torch.tensor(X_val), torch.tensor(y_val)), batch_size=64)"
      ]
    },
    {
      "cell_type": "code",
      "execution_count": 33,
      "metadata": {},
      "outputs": [
        {
          "name": "stdout",
          "output_type": "stream",
          "text": [
            "Epoch 1/50 | Train Loss: 156.8502 Acc: 0.9196 | Val Loss: 33.5012 Acc: 0.9276\n",
            "Epoch 2/50 | Train Loss: 128.7499 Acc: 0.9327 | Val Loss: 30.3631 Acc: 0.9360\n",
            "Epoch 3/50 | Train Loss: 119.7677 Acc: 0.9367 | Val Loss: 28.9750 Acc: 0.9386\n",
            "Epoch 4/50 | Train Loss: 113.7132 Acc: 0.9389 | Val Loss: 27.6785 Acc: 0.9404\n",
            "Epoch 5/50 | Train Loss: 108.9413 Acc: 0.9406 | Val Loss: 26.6788 Acc: 0.9421\n",
            "Epoch 6/50 | Train Loss: 104.9125 Acc: 0.9419 | Val Loss: 25.6909 Acc: 0.9430\n",
            "Epoch 7/50 | Train Loss: 101.2236 Acc: 0.9432 | Val Loss: 25.0088 Acc: 0.9440\n",
            "Epoch 8/50 | Train Loss: 98.2273 Acc: 0.9442 | Val Loss: 24.3944 Acc: 0.9446\n",
            "Epoch 9/50 | Train Loss: 95.5984 Acc: 0.9453 | Val Loss: 23.7758 Acc: 0.9466\n",
            "Epoch 10/50 | Train Loss: 93.1835 Acc: 0.9460 | Val Loss: 23.6190 Acc: 0.9470\n",
            "Epoch 11/50 | Train Loss: 91.3371 Acc: 0.9471 | Val Loss: 23.1038 Acc: 0.9476\n",
            "Epoch 12/50 | Train Loss: 89.7316 Acc: 0.9476 | Val Loss: 22.9286 Acc: 0.9479\n",
            "Epoch 13/50 | Train Loss: 88.1941 Acc: 0.9482 | Val Loss: 22.5732 Acc: 0.9488\n",
            "Epoch 14/50 | Train Loss: 87.0880 Acc: 0.9487 | Val Loss: 22.4696 Acc: 0.9488\n",
            "Epoch 15/50 | Train Loss: 86.0531 Acc: 0.9491 | Val Loss: 22.5094 Acc: 0.9488\n",
            "Epoch 16/50 | Train Loss: 85.4249 Acc: 0.9496 | Val Loss: 22.1165 Acc: 0.9498\n",
            "Epoch 17/50 | Train Loss: 84.5819 Acc: 0.9498 | Val Loss: 22.1375 Acc: 0.9497\n",
            "Epoch 18/50 | Train Loss: 83.5414 Acc: 0.9501 | Val Loss: 22.1726 Acc: 0.9496\n",
            "Epoch 19/50 | Train Loss: 82.2382 Acc: 0.9506 | Val Loss: 21.9879 Acc: 0.9500\n",
            "Epoch 20/50 | Train Loss: 81.8058 Acc: 0.9509 | Val Loss: 21.8361 Acc: 0.9507\n",
            "Epoch 21/50 | Train Loss: 81.0253 Acc: 0.9513 | Val Loss: 21.5916 Acc: 0.9510\n",
            "Epoch 22/50 | Train Loss: 80.3669 Acc: 0.9514 | Val Loss: 21.6719 Acc: 0.9509\n",
            "Epoch 23/50 | Train Loss: 79.3195 Acc: 0.9520 | Val Loss: 21.4545 Acc: 0.9515\n",
            "Epoch 24/50 | Train Loss: 80.6257 Acc: 0.9515 | Val Loss: 22.0507 Acc: 0.9507\n",
            "Epoch 25/50 | Train Loss: 79.7391 Acc: 0.9521 | Val Loss: 21.6181 Acc: 0.9516\n",
            "Epoch 26/50 | Train Loss: 78.1953 Acc: 0.9526 | Val Loss: 21.6376 Acc: 0.9515\n",
            "Epoch 27/50 | Train Loss: 77.9564 Acc: 0.9527 | Val Loss: 21.3321 Acc: 0.9525\n",
            "Epoch 28/50 | Train Loss: 77.4016 Acc: 0.9529 | Val Loss: 21.0528 Acc: 0.9525\n",
            "Epoch 29/50 | Train Loss: 77.5310 Acc: 0.9529 | Val Loss: 21.2325 Acc: 0.9522\n",
            "Epoch 30/50 | Train Loss: 76.8905 Acc: 0.9532 | Val Loss: 21.2903 Acc: 0.9523\n",
            "Epoch 31/50 | Train Loss: 76.1594 Acc: 0.9536 | Val Loss: 21.3914 Acc: 0.9525\n",
            "Epoch 32/50 | Train Loss: 75.8094 Acc: 0.9538 | Val Loss: 21.5742 Acc: 0.9524\n",
            "Epoch 33/50 | Train Loss: 75.7641 Acc: 0.9538 | Val Loss: 21.2849 Acc: 0.9525\n",
            "Epoch 34/50 | Train Loss: 75.4699 Acc: 0.9539 | Val Loss: 21.1603 Acc: 0.9532\n",
            "Epoch 35/50 | Train Loss: 75.7567 Acc: 0.9539 | Val Loss: 21.7662 Acc: 0.9523\n",
            "Epoch 36/50 | Train Loss: 79.2908 Acc: 0.9526 | Val Loss: 21.8144 Acc: 0.9516\n",
            "Epoch 37/50 | Train Loss: 77.5608 Acc: 0.9535 | Val Loss: 21.4527 Acc: 0.9526\n",
            "Epoch 38/50 | Train Loss: 76.9537 Acc: 0.9539 | Val Loss: 21.3436 Acc: 0.9525\n",
            "Epoch 39/50 | Train Loss: 76.1033 Acc: 0.9540 | Val Loss: 21.2381 Acc: 0.9532\n",
            "Epoch 40/50 | Train Loss: 76.1060 Acc: 0.9542 | Val Loss: 21.2257 Acc: 0.9533\n",
            "Epoch 41/50 | Train Loss: 75.5699 Acc: 0.9545 | Val Loss: 21.3527 Acc: 0.9530\n",
            "Epoch 42/50 | Train Loss: 73.8089 Acc: 0.9548 | Val Loss: 21.1002 Acc: 0.9534\n",
            "Epoch 43/50 | Train Loss: 72.3773 Acc: 0.9556 | Val Loss: 21.0247 Acc: 0.9538\n",
            "Epoch 44/50 | Train Loss: 72.6360 Acc: 0.9553 | Val Loss: 20.7567 Acc: 0.9536\n",
            "Epoch 45/50 | Train Loss: 72.4087 Acc: 0.9555 | Val Loss: 21.0253 Acc: 0.9540\n",
            "Epoch 46/50 | Train Loss: 71.7105 Acc: 0.9558 | Val Loss: 21.1288 Acc: 0.9539\n",
            "Epoch 47/50 | Train Loss: 71.4400 Acc: 0.9558 | Val Loss: 21.7192 Acc: 0.9535\n",
            "Epoch 48/50 | Train Loss: 71.1193 Acc: 0.9561 | Val Loss: 20.7870 Acc: 0.9542\n",
            "Epoch 49/50 | Train Loss: 70.5592 Acc: 0.9563 | Val Loss: 21.2146 Acc: 0.9545\n",
            "Epoch 50/50 | Train Loss: 70.7662 Acc: 0.9563 | Val Loss: 21.1666 Acc: 0.9543\n"
          ]
        }
      ],
      "source": [
        "num_epochs = 50\n",
        "threshold = 0.5\n",
        "\n",
        "for epoch in range(num_epochs):\n",
        "    model.train()\n",
        "    total_loss = correct = total = 0\n",
        "    for xb, yb in train_loader:\n",
        "        xb, yb = xb.to(device), yb.to(device)\n",
        "        optimizer.zero_grad()\n",
        "        preds = model(xb)\n",
        "        loss = criterion(preds, yb)\n",
        "        loss.backward()\n",
        "        optimizer.step()\n",
        "        total_loss += loss.item()\n",
        "        correct += (preds > threshold).eq(yb).sum().item()\n",
        "        total += yb.numel()\n",
        "    train_acc = correct / total\n",
        "\n",
        "    model.eval()\n",
        "    val_loss = val_correct = val_total = 0\n",
        "    with torch.no_grad():\n",
        "        for xb, yb in val_loader:\n",
        "            xb, yb = xb.to(device), yb.to(device)\n",
        "            preds = model(xb)\n",
        "            loss = criterion(preds, yb)\n",
        "            val_loss += loss.item()\n",
        "            val_correct += (preds > threshold).eq(yb).sum().item()\n",
        "            val_total += yb.numel()\n",
        "    val_acc = val_correct / val_total\n",
        "\n",
        "    print(f\"Epoch {epoch+1}/{num_epochs} | Train Loss: {total_loss:.4f} Acc: {train_acc:.4f} | Val Loss: {val_loss:.4f} Acc: {val_acc:.4f}\")"
      ]
    },
    {
      "cell_type": "code",
      "execution_count": 34,
      "metadata": {},
      "outputs": [
        {
          "data": {
            "text/plain": [
              "['scaler.pkl']"
            ]
          },
          "execution_count": 34,
          "metadata": {},
          "output_type": "execute_result"
        }
      ],
      "source": [
        "# ✅ Save PyTorch model\n",
        "torch.save(model.state_dict(), \"lstm_model.pt\")\n",
        "\n",
        "# ✅ Save Scaler\n",
        "joblib.dump(scaler, \"scaler.pkl\")"
      ]
    },
    {
      "cell_type": "code",
      "execution_count": 35,
      "metadata": {},
      "outputs": [],
      "source": [
        "!pip freeze > requirements.txt"
      ]
    },
    {
      "cell_type": "code",
      "execution_count": null,
      "metadata": {},
      "outputs": [],
      "source": []
    }
  ],
  "metadata": {
    "colab": {
      "provenance": []
    },
    "kernelspec": {
      "display_name": "Street_fighter_turbo_training",
      "language": "python",
      "name": "python3"
    },
    "language_info": {
      "codemirror_mode": {
        "name": "ipython",
        "version": 3
      },
      "file_extension": ".py",
      "mimetype": "text/x-python",
      "name": "python",
      "nbconvert_exporter": "python",
      "pygments_lexer": "ipython3",
      "version": "3.11.9"
    }
  },
  "nbformat": 4,
  "nbformat_minor": 0
}
